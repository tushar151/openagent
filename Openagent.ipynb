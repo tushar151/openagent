{
 "cells": [
  {
   "cell_type": "code",
   "execution_count": 1,
   "id": "70957ae8",
   "metadata": {},
   "outputs": [],
   "source": [
    "from pyparsing import *\n",
    "\n",
    "def format_chat_template(input_text):\n",
    "    # Define grammar for user and assistant tags\n",
    "    user_start = Literal(\"{{#user}}\")\n",
    "    user_end = Literal(\"{{/user}}\") \n",
    "    assistant_start = Literal(\"{{#assistant}}\")\n",
    "    assistant_end = Literal(\"{{/assistant}}\")\n",
    "    gen_command = Combine(Literal(\"{{gen\" ) + SkipTo(\"}\")+ Literal(\"}}\"))\n",
    "\n",
    "    # Define a function to wrap text with user tags\n",
    "    def wrap_with_user_tags(text):\n",
    "        return f\"{{{{#user}}}}\\n{text}\\n{{{{/user}}}}\"\n",
    "\n",
    "    # Define a function to wrap text with assistant tags\n",
    "    def wrap_with_assistant_tags(text):\n",
    "        return f\"{{{{#assistant}}}}\\n{text}\\n{{{{/assistant}}}}\"\n",
    "\n",
    "    # Parse the input text\n",
    "    parsed_text = (user_start + input_text + user_end | assistant_start + gen_command() + assistant_end |\n",
    "                   gen_command()).transformString(input_text)\n",
    "\n",
    "    # Check if there's a {{gen ... }} command at the end\n",
    "    if not parsed_text.endswith(\"{{gen 'write'}}\"):\n",
    "        parsed_text += wrap_with_assistant_tags(\"{{gen 'write'}}\")\n",
    "\n",
    "    # Format the parsed text with user and assistant tags\n",
    "    formatted_text = \"\"\n",
    "    formatted_text += wrap_with_user_tags(parsed_text)\n",
    "\n",
    "    return formatted_text"
   ]
  },
  {
   "cell_type": "code",
   "execution_count": 2,
   "id": "d673f05b",
   "metadata": {},
   "outputs": [
    {
     "data": {
      "text/plain": [
       "\"{{#user}}\\nTweak this proverb to apply to model instructions instead. Where there is no guidance{{gen 'rewrite'}}{{#assistant}}\\n{{gen 'write'}}\\n{{/assistant}}\\n{{/user}}\""
      ]
     },
     "execution_count": 2,
     "metadata": {},
     "output_type": "execute_result"
    }
   ],
   "source": [
    "format_chat_template(\"Tweak this proverb to apply to model instructions instead. Where there is no guidance{{gen 'rewrite'}}\")"
   ]
  },
  {
   "cell_type": "code",
   "execution_count": null,
   "id": "17587388",
   "metadata": {},
   "outputs": [],
   "source": []
  },
  {
   "cell_type": "code",
   "execution_count": null,
   "id": "5ecd4a4f",
   "metadata": {},
   "outputs": [],
   "source": []
  }
 ],
 "metadata": {
  "kernelspec": {
   "display_name": "Python 3",
   "language": "python",
   "name": "python3"
  },
  "language_info": {
   "codemirror_mode": {
    "name": "ipython",
    "version": 3
   },
   "file_extension": ".py",
   "mimetype": "text/x-python",
   "name": "python",
   "nbconvert_exporter": "python",
   "pygments_lexer": "ipython3",
   "version": "3.8.8"
  }
 },
 "nbformat": 4,
 "nbformat_minor": 5
}
